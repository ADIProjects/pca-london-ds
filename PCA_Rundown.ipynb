{
 "cells": [
  {
   "cell_type": "markdown",
   "metadata": {},
   "source": [
    "# PCA Rundown \n",
    "\n",
    "Analysis largely taken from [this page](https://data.world/exercises/principal-components-exercise-1) and modified by David John Baker. "
   ]
  },
  {
   "cell_type": "code",
   "execution_count": null,
   "metadata": {},
   "outputs": [],
   "source": [
    "import pandas as pd\n",
    "import numpy as np\n",
    "from sklearn.decomposition import PCA\n",
    "from sklearn.preprocessing import StandardScaler\n",
    "import matplotlib.pyplot as plt\n",
    "import seaborn as sns"
   ]
  },
  {
   "cell_type": "code",
   "execution_count": null,
   "metadata": {},
   "outputs": [],
   "source": [
    "df = pd.read_csv(\"nndb_flat.csv\")"
   ]
  },
  {
   "cell_type": "code",
   "execution_count": null,
   "metadata": {},
   "outputs": [],
   "source": [
    "df"
   ]
  },
  {
   "cell_type": "code",
   "execution_count": null,
   "metadata": {},
   "outputs": [],
   "source": [
    "df.shape"
   ]
  },
  {
   "cell_type": "code",
   "execution_count": null,
   "metadata": {},
   "outputs": [],
   "source": [
    "df.columns"
   ]
  },
  {
   "cell_type": "markdown",
   "metadata": {},
   "source": [
    "There is a bit of redundant information here that we need to drop before we start doing any sort of analysis."
   ]
  },
  {
   "cell_type": "code",
   "execution_count": null,
   "metadata": {},
   "outputs": [],
   "source": [
    "sns.pairplot(df[['Energy_kcal','Protein_g','Fat_g']])\n"
   ]
  },
  {
   "cell_type": "code",
   "execution_count": null,
   "metadata": {},
   "outputs": [],
   "source": []
  },
  {
   "cell_type": "code",
   "execution_count": null,
   "metadata": {},
   "outputs": [],
   "source": [
    "df.drop(df.columns[df.columns.str.contains('_USRDA')].values, \n",
    "        inplace=True, axis=1)"
   ]
  },
  {
   "cell_type": "code",
   "execution_count": null,
   "metadata": {},
   "outputs": [],
   "source": [
    "df.set_index('ID', inplace=True)\n",
    "df_desc = df.iloc[:, :6]\n",
    "df.drop(df.columns[:6].values, axis=1, inplace=True)"
   ]
  },
  {
   "cell_type": "code",
   "execution_count": null,
   "metadata": {},
   "outputs": [],
   "source": [
    "%matplotlib inline\n",
    "ax = df.hist(bins=50, xlabelsize=-1, ylabelsize=-1, figsize=(11,11))"
   ]
  },
  {
   "cell_type": "markdown",
   "metadata": {},
   "source": [
    "## Most of the variables are \"zero\" inflated and skewed right. We may want to consider transformation so \"improve\" the distributions and hopefully produce better correlations for our PCA. Note: this is an optional step that may not always improve results."
   ]
  },
  {
   "cell_type": "code",
   "execution_count": null,
   "metadata": {},
   "outputs": [],
   "source": [
    "from scipy.stats import boxcox\n",
    "# add 1 because data must be positive (we have many zeros)\n",
    "df = df + 1\n",
    "df_TF = pd.DataFrame(index=df.index)\n",
    "for i in df.columns.values:\n",
    "    df_TF[\"%s_TF\" % i] = boxcox(df.loc[:, i])[0]"
   ]
  },
  {
   "cell_type": "code",
   "execution_count": null,
   "metadata": {},
   "outputs": [],
   "source": [
    "ax = df_TF.hist(bins=50, xlabelsize=-1, ylabelsize=-1, figsize=(11,11))"
   ]
  },
  {
   "cell_type": "code",
   "execution_count": null,
   "metadata": {},
   "outputs": [],
   "source": [
    "# from sklearn.preprocessing import StandardScaler\n",
    "df_TF = StandardScaler().fit_transform(df_TF)\n",
    "\n",
    "print(\"mean: \", np.round(df_TF.mean(), 2))\n",
    "print(\"standard dev: \", np.round(df_TF.std(), 2))"
   ]
  },
  {
   "cell_type": "markdown",
   "metadata": {},
   "source": [
    "# Run PCA "
   ]
  },
  {
   "cell_type": "code",
   "execution_count": null,
   "metadata": {},
   "outputs": [],
   "source": [
    "# from sklearn.decomposition import PCA\n",
    "fit = PCA()\n",
    "pca = fit.fit_transform(df_TF)\n",
    "pca"
   ]
  },
  {
   "cell_type": "code",
   "execution_count": null,
   "metadata": {},
   "outputs": [],
   "source": []
  },
  {
   "cell_type": "code",
   "execution_count": null,
   "metadata": {},
   "outputs": [],
   "source": [
    "plt.plot(fit.explained_variance_ratio_)\n",
    "plt.title(\"Variance Explained, Given Number of Components\")\n",
    "plt.xlabel(\"Number of Eigenvectors\")\n",
    "plt.ylabel(\"Variance Explained\")"
   ]
  },
  {
   "cell_type": "code",
   "execution_count": null,
   "metadata": {},
   "outputs": [],
   "source": [
    "print(fit.explained_variance_ratio_)\n",
    "print(\"--------------------\")\n",
    "print(fit.explained_variance_ratio_[:5].sum())\n",
    "print(\"--------------------\")\n",
    "print(\"If we use ALL the data we can explain\",fit.explained_variance_ratio_[:23].sum()*100,\" % of our data!\")"
   ]
  },
  {
   "cell_type": "markdown",
   "metadata": {},
   "source": [
    "#### the first 5 eigenvectors account for 77% of the variance and will be kept"
   ]
  },
  {
   "cell_type": "code",
   "execution_count": null,
   "metadata": {},
   "outputs": [],
   "source": [
    "display(pca)"
   ]
  },
  {
   "cell_type": "code",
   "execution_count": null,
   "metadata": {},
   "outputs": [],
   "source": [
    "pca = pd.DataFrame(pca[:, :5], index=df.index)\n",
    "pca"
   ]
  },
  {
   "cell_type": "code",
   "execution_count": null,
   "metadata": {},
   "outputs": [],
   "source": [
    "df_desc"
   ]
  },
  {
   "cell_type": "code",
   "execution_count": null,
   "metadata": {},
   "outputs": [],
   "source": [
    "pca = pca.join(df_desc)\n"
   ]
  },
  {
   "cell_type": "code",
   "execution_count": null,
   "metadata": {},
   "outputs": [],
   "source": [
    "pca.drop(['CommonName','MfgName','ScientificName'], axis=1, inplace=True)\n",
    "pca.rename(columns={0:'c1',1:'c2',2:'c3',3:'c4',4:'c5'}, inplace=True)"
   ]
  },
  {
   "cell_type": "code",
   "execution_count": null,
   "metadata": {},
   "outputs": [],
   "source": [
    "pca"
   ]
  },
  {
   "cell_type": "markdown",
   "metadata": {},
   "source": [
    "## Try to interpret the components\n",
    "\n",
    "(this is where deep subject matter expertise, in this case nutrition, comes in handy)"
   ]
  },
  {
   "cell_type": "markdown",
   "metadata": {},
   "source": [
    "**Component one** \n",
    "\n",
    "foods that are high in: zinc, and other vitamins and minerals\n",
    "\n",
    "low in: sugar, vitamin C, Carbs, and fiber"
   ]
  },
  {
   "cell_type": "code",
   "execution_count": null,
   "metadata": {},
   "outputs": [],
   "source": [
    "# Get First Five Columns\n",
    "vects = fit.components_[:5]"
   ]
  },
  {
   "cell_type": "code",
   "execution_count": null,
   "metadata": {},
   "outputs": [],
   "source": [
    "one = pd.Series(vects[0], index=df.columns)\n",
    "one.sort_values(ascending=False)"
   ]
  },
  {
   "cell_type": "markdown",
   "metadata": {},
   "source": [
    "**Component two**\n",
    "\n",
    "High: Carbs, Fiber, Mang, Sugar, Vitamin C...\n",
    "\n",
    "Low: Vitamine B12, protein, selenium, Fat..."
   ]
  },
  {
   "cell_type": "code",
   "execution_count": null,
   "metadata": {},
   "outputs": [],
   "source": [
    "two = pd.Series(vects[1], index=df.columns)\n",
    "two.sort_values(ascending=True)"
   ]
  },
  {
   "cell_type": "markdown",
   "metadata": {},
   "source": [
    "**Component three**\n",
    "\n",
    "High: calories, fat, carbs, sugar...\n",
    "\n",
    "Low: vitamin A, vitamin C, folate, copper..."
   ]
  },
  {
   "cell_type": "code",
   "execution_count": null,
   "metadata": {},
   "outputs": [],
   "source": [
    "three = pd.Series(vects[2], index=df.columns)\n",
    "three.sort_values(ascending=False)"
   ]
  },
  {
   "cell_type": "markdown",
   "metadata": {},
   "source": [
    "**Component four**\n",
    "\n",
    "High: vitamin A, vitamin E, fat, sugar, calcium, vitamin B12, calories...\n",
    "\n",
    "Low: manganese, copper, iron, magnesium, fiber"
   ]
  },
  {
   "cell_type": "code",
   "execution_count": null,
   "metadata": {},
   "outputs": [],
   "source": [
    "four = pd.Series(vects[3], index=df.columns)\n",
    "four.sort_values(ascending=False)"
   ]
  },
  {
   "cell_type": "markdown",
   "metadata": {},
   "source": [
    "** Component five**\n",
    "\n",
    "High: riboflavin, thiamin, niacin, sugar, vitB6, vitC, vitB12...\n",
    "\n",
    "Low: manganese, copper, fat, vitE, calories, magnesium"
   ]
  },
  {
   "cell_type": "code",
   "execution_count": null,
   "metadata": {},
   "outputs": [],
   "source": [
    "five = pd.Series(vects[4], index=df.columns)\n",
    "five.sort_values(ascending=False)"
   ]
  },
  {
   "cell_type": "code",
   "execution_count": null,
   "metadata": {},
   "outputs": [],
   "source": [
    "## Now let's look at which food groups are highest in each component (1)"
   ]
  },
  {
   "cell_type": "code",
   "execution_count": null,
   "metadata": {},
   "outputs": [],
   "source": [
    "pca"
   ]
  },
  {
   "cell_type": "code",
   "execution_count": null,
   "metadata": {},
   "outputs": [],
   "source": [
    "pca.sort_values(by='c1')['FoodGroup'][:500].value_counts()"
   ]
  },
  {
   "cell_type": "code",
   "execution_count": null,
   "metadata": {},
   "outputs": [],
   "source": [
    "pca.sort_values(by='c2')['FoodGroup'][:500].value_counts()"
   ]
  },
  {
   "cell_type": "code",
   "execution_count": null,
   "metadata": {},
   "outputs": [],
   "source": [
    "pca.sort_values(by='c3')['FoodGroup'][:500].value_counts()"
   ]
  },
  {
   "cell_type": "code",
   "execution_count": null,
   "metadata": {},
   "outputs": [],
   "source": [
    "pca.sort_values(by='c4')['FoodGroup'][:500].value_counts()"
   ]
  },
  {
   "cell_type": "code",
   "execution_count": null,
   "metadata": {},
   "outputs": [],
   "source": [
    "pca.sort_values(by='c5')['FoodGroup'][:500].value_counts()"
   ]
  },
  {
   "cell_type": "markdown",
   "metadata": {},
   "source": [
    "# What About Other Ways?"
   ]
  },
  {
   "cell_type": "code",
   "execution_count": null,
   "metadata": {},
   "outputs": [],
   "source": [
    "# from sklearn.decomposition import PCA\n",
    "fit_2 = PCA(n_components=2)\n",
    "pca_2 = fit_2.fit_transform(df_TF)\n",
    "pca_2\n",
    "\n",
    "fit_7 = PCA(n_components=7)\n",
    "pca_7 = fit_7.fit_transform(df_TF)\n",
    "pca_7"
   ]
  },
  {
   "cell_type": "code",
   "execution_count": null,
   "metadata": {},
   "outputs": [],
   "source": [
    "# Create a new dataset from principal components \n",
    "df = pd.DataFrame(data = pca_2, \n",
    "                  columns = ['PC1', 'PC2'])\n",
    "\n",
    "\n",
    "df_7 = pd.DataFrame(data = pca_7, \n",
    "                  columns = ['PC1', 'PC2','PC3','PC4','PC5','PC6','PC7'])\n",
    "\n",
    "# target = pd.Series(iris['target'], name='target')\n",
    "\n",
    "# result_df = pd.concat([df, target], axis=1)\n",
    "# result_df.head(5)"
   ]
  },
  {
   "cell_type": "code",
   "execution_count": null,
   "metadata": {},
   "outputs": [],
   "source": [
    "df_desc = pd.DataFrame(df_desc)\n",
    "food_2 = df.join(df_desc)\n",
    "\n",
    "display(food_2)\n",
    "\n",
    "food_7 = df_7.join(df_desc)\n",
    "\n",
    "#display(food_7)\n"
   ]
  },
  {
   "cell_type": "code",
   "execution_count": null,
   "metadata": {},
   "outputs": [],
   "source": [
    "sns.scatterplot(\"PC3\", \"PC2\", hue = \"FoodGroup\", data = food_7)\n",
    "\n",
    "plt.legend(bbox_to_anchor=(1.05, 1), loc=2, borderaxespad=0.)"
   ]
  },
  {
   "cell_type": "code",
   "execution_count": null,
   "metadata": {},
   "outputs": [],
   "source": [
    "food_7"
   ]
  },
  {
   "cell_type": "markdown",
   "metadata": {},
   "source": [
    "## Your Turn !"
   ]
  },
  {
   "cell_type": "markdown",
   "metadata": {},
   "source": [
    "Import in the iris dataset found in this directory.\n",
    "Go through the steps of PCA in the next 15 minutes to see if you can extract differences between the groups of flowers based on their physical features."
   ]
  },
  {
   "cell_type": "code",
   "execution_count": null,
   "metadata": {},
   "outputs": [],
   "source": []
  }
 ],
 "metadata": {
  "kernelspec": {
   "display_name": "Python 3",
   "language": "python",
   "name": "python3"
  },
  "language_info": {
   "codemirror_mode": {
    "name": "ipython",
    "version": 3
   },
   "file_extension": ".py",
   "mimetype": "text/x-python",
   "name": "python",
   "nbconvert_exporter": "python",
   "pygments_lexer": "ipython3",
   "version": "3.7.3"
  }
 },
 "nbformat": 4,
 "nbformat_minor": 2
}
